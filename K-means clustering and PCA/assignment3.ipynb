{
 "cells": [
  {
   "cell_type": "code",
   "execution_count": 2,
   "metadata": {},
   "outputs": [],
   "source": [
    "import random\n",
    "import numpy as np\n",
    "import sys\n",
    "import pandas as pd\n",
    "from random import sample\n",
    "from numpy import linalg as LA\n",
    "import matplotlib.pyplot as plt\n",
    "from collections import defaultdict\n",
    "from sklearn.cluster import KMeans\n",
    "from sklearn.preprocessing import StandardScaler\n",
    "from sklearn.decomposition import PCA\n",
    "from scipy.spatial.distance import cdist\n",
    "from sklearn.datasets import load_digits\n",
    "from sklearn.preprocessing import StandardScaler"
   ]
  },
  {
   "cell_type": "code",
   "execution_count": 12,
   "metadata": {},
   "outputs": [
    {
     "name": "stdout",
     "output_type": "stream",
     "text": [
      "6000 784\n"
     ]
    }
   ],
   "source": [
    "# df = pd.read_csv('mnist.csv')\n",
    "CSVData = open(\"mnist.csv\")\n",
    "# data is already normalized as number are betwen 0 and 1\n",
    "data = np.loadtxt(CSVData, delimiter=\",\")\n",
    "# filter out first column, label column\n",
    "data = np.delete(data, 0, axis=1)\n",
    "samples, dimensions = data.shape\n",
    "print(samples, dimensions)\n",
    "# remove the first row as we don't want to include the label row!"
   ]
  },
  {
   "cell_type": "markdown",
   "metadata": {},
   "source": [
    "### Question 1\n",
    "Perform PCA on the dataset to reduce each sample into a 10-dimensional feature vector. Show the covariance matrix of the transformed data\n"
   ]
  },
  {
   "cell_type": "code",
   "execution_count": 31,
   "metadata": {},
   "outputs": [
    {
     "name": "stdout",
     "output_type": "stream",
     "text": [
      "covaraince matrix sum: 26.220565161722813\n",
      "covaraince matrix\n",
      "[[ 5.30558677e+00  6.03025622e-16  4.26396708e-16 -2.17106990e-15\n",
      "   9.85450169e-16  2.91134196e-15 -1.50053147e-15  9.90187910e-16\n",
      "   8.50424545e-16 -3.00846566e-16]\n",
      " [ 6.03025622e-16  3.87701635e+00  1.26112748e-15  7.20136662e-16\n",
      "  -4.28765578e-16  5.95770955e-16 -5.52242958e-16 -1.16074659e-16\n",
      "  -2.55838025e-16  2.36887060e-18]\n",
      " [ 4.26396708e-16  1.26112748e-15  3.28704664e+00 -2.36887060e-16\n",
      "   1.51607718e-16 -5.44840237e-16  7.31981015e-16  6.11168614e-16\n",
      "   6.46701673e-16 -8.29104709e-17]\n",
      " [-2.17106990e-15  7.20136662e-16 -2.36887060e-16  2.91254096e+00\n",
      "  -1.57293008e-15  6.86972473e-16 -6.51439414e-16 -5.40102496e-16\n",
      "  -2.60575766e-17 -1.42132236e-16]\n",
      " [ 9.85450169e-16 -4.28765578e-16  1.51607718e-16 -1.57293008e-15\n",
      "   2.48633206e+00  6.37226191e-16  3.93380574e-16 -7.63368550e-16\n",
      "  -3.87939574e-16 -1.89509648e-16]\n",
      " [ 2.91134196e-15  5.95770955e-16 -5.44840237e-16  6.86972473e-16\n",
      "   6.37226191e-16  2.35358942e+00 -1.88325213e-16  2.84264472e-16\n",
      "   3.61252766e-16  3.97970260e-16]\n",
      " [-1.50053147e-15 -5.52242958e-16  7.31981015e-16 -6.51439414e-16\n",
      "   3.93380574e-16 -1.88325213e-16  1.75556820e+00  5.54315720e-16\n",
      "  -7.36718756e-16  2.67682378e-16]\n",
      " [ 9.90187910e-16 -1.16074659e-16  6.11168614e-16 -5.40102496e-16\n",
      "  -7.63368550e-16  2.84264472e-16  5.54315720e-16  1.54475982e+00\n",
      "  -6.12945267e-17 -1.21996836e-16]\n",
      " [ 8.50424545e-16 -2.55838025e-16  6.46701673e-16 -2.60575766e-17\n",
      "  -3.87939574e-16  3.61252766e-16 -7.36718756e-16 -6.12945267e-17\n",
      "   1.45474519e+00  1.69374248e-16]\n",
      " [-3.00846566e-16  2.36887060e-18 -8.29104709e-17 -1.42132236e-16\n",
      "  -1.89509648e-16  3.97970260e-16  2.67682378e-16 -1.21996836e-16\n",
      "   1.69374248e-16  1.24337974e+00]]\n"
     ]
    }
   ],
   "source": [
    "def pca(data):\n",
    "    k = 10\n",
    "    centralized_data = data - np.mean(data , axis = 0)\n",
    "    cov_mat = np.cov(centralized_data , rowvar = False)\n",
    "    # for symmetric arrays\n",
    "    eigen_values , eigen_vectors = np.linalg.eigh(cov_mat)\n",
    "    # sort eigen values\n",
    "    top_k_eigenvalue_indexes = np.argsort(eigen_values)[::-1][:k]\n",
    "    sorted_eigenvalue = eigen_values[top_k_eigenvalue_indexes]\n",
    "    # find the top k eigen values\n",
    "    sorted_eigenvectors = eigen_vectors[:,top_k_eigenvalue_indexes]\n",
    "    p = sorted_eigenvectors[:,0:k]\n",
    "\n",
    "    reduced_data = (p.T @ centralized_data.T).T\n",
    "    return reduced_data\n",
    "\n",
    "reduced_data = pca(data)\n",
    "reduced_data_cov = np.cov(reduced_data , rowvar = False)\n",
    "print(\"covaraince matrix sum:\", np.sum(reduced_data_cov))\n",
    "print(\"covaraince matrix\")\n",
    "print(reduced_data_cov)"
   ]
  },
  {
   "cell_type": "markdown",
   "metadata": {},
   "source": [
    "### question 2\n",
    "Perform k-means clustering to cluster the dataset (without applying PCA) into 10 groups\n"
   ]
  },
  {
   "cell_type": "code",
   "execution_count": 14,
   "metadata": {},
   "outputs": [],
   "source": [
    "def k_means(x, k = 10, max_iter = 50, threshold = 1e-3):\n",
    "        losses = []\n",
    "        prev_loss = 0\n",
    "        n = x.shape[0]\n",
    "        size = n // k\n",
    "        centroids = {}\n",
    "        # randomly assigning clusters\n",
    "        np.random.shuffle(x)\n",
    "        for i in range(k):\n",
    "            start = i * size\n",
    "            end = (i + 1) * size\n",
    "            centroids[i] = x[start:end,:]\n",
    "\n",
    "        for it in range(max_iter):\n",
    "            clusters = {}\n",
    "            for i in range(k):\n",
    "                clusters[i] = []\n",
    "\n",
    "            loss_sum = 0\n",
    "            for feature in x:\n",
    "                distances = [np.linalg.norm(feature - centroids[i]) for i in centroids]\n",
    "                loss_sum += np.sum(np.array(distances)**2)\n",
    "                cluster_index = distances.index(min(distances))\n",
    "                clusters[cluster_index].append(feature)\n",
    "            \n",
    "            # print(it, loss_sum)\n",
    "            losses.append(loss_sum)\n",
    "            prev_centroids = dict(centroids)\n",
    "\n",
    "            for cluster_index in clusters:\n",
    "                centroids[cluster_index] = np.average(clusters[cluster_index],axis=0)\n",
    "\n",
    "            if abs(loss_sum - prev_loss) < threshold:\n",
    "                print(f\"converge after {it} iterations\")\n",
    "                break\n",
    "            prev_loss = loss_sum\n",
    "\n",
    "        return clusters, losses\n",
    "        \n",
    "clusters, losses = k_means(data)"
   ]
  },
  {
   "cell_type": "markdown",
   "metadata": {},
   "source": [
    "### Question 3\n",
    "Please plot the loss curve, that is, the change of loss value of the k-means algorithm with respect to the number of iterations. Store loss as we compute k-means in original function.\n",
    "\n",
    "From the plot graph seems to converge around 10-12 iterations"
   ]
  },
  {
   "cell_type": "code",
   "execution_count": 34,
   "metadata": {},
   "outputs": [
    {
     "data": {
      "image/png": "[encoded data removed]",
      "text/plain": [
       "<Figure size 640x480 with 1 Axes>"
      ]
     },
     "metadata": {},
     "output_type": "display_data"
    }
   ],
   "source": [
    "losses = losses[1:]\n",
    "x, y = range(1, len(losses) + 1), losses\n",
    "plt.scatter(x, y, c =\"blue\", s = 40)\n",
    "plt.xlabel(\"Number of iterations\")\n",
    "plt.ylabel(\"Loss\")\n",
    "plt.show()"
   ]
  },
  {
   "cell_type": "markdown",
   "metadata": {},
   "source": [
    "### Question 4\n",
    "Please use the first 4000 samples as the training set and remaining 2000 samples as the validation set, and design a way to choose the best k in k-means algorithm. Please copy your code snippet here. Get cluster means from training set. Validation set is used to compute loss\n",
    "\n",
    "**Training set:** A set of examples used for learning, that is to fit the parameters of the classifier.\n",
    "\n",
    "**Validation set:** A set of examples used to tune the parameters of a classifier, for example to choose the number of hidden units in a neural network."
   ]
  },
  {
   "cell_type": "code",
   "execution_count": 16,
   "metadata": {},
   "outputs": [],
   "source": [
    "training_set = data[:4000]\n",
    "validation_set = data[4000:]\n",
    "\n",
    "def compute_loss(cluster_dictionary):\n",
    "    loss_sum = 0\n",
    "    # find the sum of loss for all clusters\n",
    "    for cluster in cluster_dictionary.values():\n",
    "        centroid = np.vstack(np.array(cluster).mean(axis = 0))\n",
    "        loss_sum += np.sum(cdist(cluster, centroid.T, 'euclidean')**2)\n",
    "    return loss_sum\n"
   ]
  },
  {
   "cell_type": "code",
   "execution_count": 36,
   "metadata": {},
   "outputs": [
    {
     "name": "stdout",
     "output_type": "stream",
     "text": [
      "running k-means\n",
      "converge after 29 iterations\n",
      "running k-means\n",
      "converge after 15 iterations\n",
      "k = 2 has loss 199810.30111275252\n",
      "running k-means\n",
      "converge after 25 iterations\n",
      "k = 3 has loss 187568.10876812905\n",
      "running k-means\n",
      "converge after 31 iterations\n",
      "k = 4 has loss 180449.1184867872\n",
      "running k-means\n",
      "converge after 18 iterations\n",
      "k = 5 has loss 172697.2225467443\n",
      "running k-means\n",
      "converge after 24 iterations\n",
      "k = 6 has loss 167278.2237958994\n",
      "running k-means\n",
      "converge after 45 iterations\n",
      "k = 7 has loss 164392.1186429655\n",
      "running k-means\n",
      "converge after 26 iterations\n",
      "k = 8 has loss 161408.9430485466\n",
      "running k-means\n",
      "converge after 24 iterations\n",
      "k = 9 has loss 159041.5234506207\n",
      "running k-means\n",
      "converge after 39 iterations\n",
      "k = 10 has loss 154231.7870358422\n",
      "running k-means\n",
      "converge after 38 iterations\n",
      "k = 11 has loss 152344.8340406415\n",
      "running k-means\n",
      "converge after 18 iterations\n",
      "k = 12 has loss 152243.4982199059\n",
      "running k-means\n",
      "converge after 43 iterations\n",
      "k = 13 has loss 149332.67075571304\n",
      "running k-means\n",
      "converge after 47 iterations\n",
      "k = 14 has loss 146629.21921154074\n",
      "running k-means\n",
      "converge after 31 iterations\n",
      "k = 15 has loss 144502.4970074256\n",
      "running k-means\n"
     ]
    },
    {
     "name": "stderr",
     "output_type": "stream",
     "text": [
      "/Users/hughsignoriello/miniconda3/envs/ML/lib/python3.10/site-packages/numpy/lib/function_base.py:518: RuntimeWarning: Mean of empty slice.\n",
      "  avg = a.mean(axis, **keepdims_kw)\n",
      "/Users/hughsignoriello/miniconda3/envs/ML/lib/python3.10/site-packages/numpy/core/_methods.py:190: RuntimeWarning: invalid value encountered in double_scalars\n",
      "  ret = ret.dtype.type(ret / rcount)\n",
      "/var/folders/wm/mtpy9b51653gklgmxcdb324w0000gn/T/ipykernel_87305/979411555.py:8: RuntimeWarning: Mean of empty slice.\n",
      "  centroid = np.vstack(np.array(cluster).mean(axis = 0))\n"
     ]
    },
    {
     "name": "stdout",
     "output_type": "stream",
     "text": [
      "dispatcher for __array_function__ did not return an iterable\n",
      "running k-means\n",
      "converge after 27 iterations\n",
      "k = 17 has loss 141663.2100256038\n",
      "running k-means\n",
      "converge after 29 iterations\n",
      "k = 18 has loss 140001.521495443\n",
      "running k-means\n",
      "converge after 49 iterations\n",
      "k = 19 has loss 138222.82477021098\n"
     ]
    }
   ],
   "source": [
    "\n",
    "clusters, losses = k_means(training_set, 5)\n",
    "\n",
    "loss_array = []\n",
    "k_values = []\n",
    "for k in range(2, 25, 2):\n",
    "    try:\n",
    "        clusters, losses = k_means(training_set, k)\n",
    "        loss = compute_loss(clusters)\n",
    "    except Exception as e:\n",
    "        print(e)\n",
    "        continue\n",
    "    loss_array.append(loss)\n",
    "    k_values.append(k)\n",
    "    print(f\"k = {k} has loss {loss}\")"
   ]
  },
  {
   "cell_type": "code",
   "execution_count": 37,
   "metadata": {},
   "outputs": [
    {
     "data": {
      "image/png": "[encoded data removed]",
      "text/plain": [
       "<Figure size 640x480 with 1 Axes>"
      ]
     },
     "metadata": {},
     "output_type": "display_data"
    }
   ],
   "source": [
    "x, y = k_values, loss_array\n",
    "plt.scatter(x, y, c =\"blue\")\n",
    "plt.xlabel(\"K-values\")\n",
    "plt.ylabel(\"Loss\")\n",
    "plt.show()"
   ]
  },
  {
   "cell_type": "markdown",
   "metadata": {},
   "source": [
    "From elbow curve optimal value for k = 7\n",
    "\n",
    "\n",
    "To choose a point where diminishing returns are no longer worth the additional cost. In clustering, this means one should choose a number of clusters so that adding another cluster doesn't give much better modeling of the data\n",
    "\n",
    "Increasing the number of clusters will imporove fit as more as we have more clusters used, but that at some point this is over-fitting and the elbow curve reflects this. We want a balance between over and underfitting\n"
   ]
  },
  {
   "cell_type": "code",
   "execution_count": 17,
   "metadata": {},
   "outputs": [
    {
     "name": "stdout",
     "output_type": "stream",
     "text": [
      "k = 8 has loss 79781.75152600576\n",
      "converge after 19 iterations\n",
      "k = 9 has loss 78816.74564742799\n",
      "converge after 43 iterations\n",
      "k = 10 has loss 77059.56933256652\n",
      "converge after 33 iterations\n",
      "k = 11 has loss 75388.10606433451\n",
      "k = 12 has loss 74467.2312548364\n",
      "converge after 25 iterations\n",
      "k = 13 has loss 74192.09882044411\n",
      "converge after 43 iterations\n",
      "k = 14 has loss 73481.60856974905\n",
      "converge after 31 iterations\n",
      "k = 15 has loss 72626.44135507601\n"
     ]
    }
   ],
   "source": [
    "# tuning paramaters with validation set\n",
    "optimal_k = 12\n",
    "loss_array = []\n",
    "k_values = []\n",
    "for k in range(optimal_k - 4, optimal_k + 4):\n",
    "    try:\n",
    "        clusters, losses = k_means(validation_set, k)\n",
    "        loss = compute_loss(clusters)\n",
    "    except Exception as e:\n",
    "        print(e)\n",
    "        continue\n",
    "    loss_array.append(loss)\n",
    "    k_values.append(k)\n",
    "    print(f\"k = {k} has loss {loss}\")"
   ]
  },
  {
   "cell_type": "code",
   "execution_count": 18,
   "metadata": {},
   "outputs": [
    {
     "data": {
      "image/png": "[encoded data removed]",
      "text/plain": [
       "<Figure size 640x480 with 1 Axes>"
      ]
     },
     "metadata": {},
     "output_type": "display_data"
    }
   ],
   "source": [
    "x, y = k_values, loss_array\n",
    "plt.scatter(x, y, c =\"blue\")\n",
    "plt.xlabel(\"K-values\")\n",
    "plt.ylabel(\"Loss\")\n",
    "plt.show()"
   ]
  },
  {
   "cell_type": "markdown",
   "metadata": {},
   "source": [
    "### Evaluation\n",
    "From elbow curve k = 11 gives the most optimal value of clusters\n",
    "\n",
    "As lower loss value does not necessary indicate better clustering as when we add more clusters, naturally they will be closer to the centroid on average even if they are incorrectly clustered so it is expected that the mean value of loss will decrease as we add more clusters.\n",
    "\n",
    "On the other hand too few clusters will result in values being further away from the centroid.\n",
    "\n",
    "We want to minimize our loss without incorrectly clustering "
   ]
  },
  {
   "cell_type": "markdown",
   "metadata": {},
   "source": [
    "### Question 5\n",
    "Implement kernel k-means algorithm with RBF-kernel\n",
    "\n",
    "Use the first 500 samples and cluster the them into 5 groups. This is for reducing the running time of your code. \n"
   ]
  },
  {
   "cell_type": "code",
   "execution_count": 20,
   "metadata": {},
   "outputs": [
    {
     "name": "stdout",
     "output_type": "stream",
     "text": [
      "running k means\n",
      "0 0.008746832857891754\n",
      "1 0.005108910734723423\n"
     ]
    },
    {
     "name": "stderr",
     "output_type": "stream",
     "text": [
      "/var/folders/wj/zt45pqy17xs66npk88v4sklc0000gn/T/ipykernel_82379/544858985.py:36: VisibleDeprecationWarning: Creating an ndarray from ragged nested sequences (which is a list-or-tuple of lists-or-tuples-or ndarrays with different lengths or shapes) is deprecated. If you meant to do this, you must specify 'dtype=object' when creating the ndarray.\n",
      "  return np.array(res)\n"
     ]
    },
    {
     "name": "stdout",
     "output_type": "stream",
     "text": [
      "2 0.0048700161197777455\n",
      "3 0.004257520641580184\n",
      "4 0.0020461770176332474\n",
      "5 0.0022247026128229164\n",
      "6 0.0024032298306997835\n",
      "7 0.0025817258821659353\n",
      "8 0.0029387750814509257\n",
      "9 0.003584168557496292\n",
      "10 0.002992123024626397\n",
      "11 0.0036169358825400236\n",
      "12 0.0034461044086599494\n",
      "13 0.004005261018169181\n",
      "14 0.003186944316188509\n",
      "15 0.0040795527509890584\n",
      "16 0.0033697767090074744\n",
      "17 0.0038164970597440264\n",
      "18 0.002581559282518524\n",
      "19 0.0027855444617484785\n",
      "20 0.0033104632810908425\n",
      "21 0.0030699943777356582\n",
      "22 0.002899552780006792\n",
      "23 0.0022835983588205874\n",
      "24 0.002110986164444165\n",
      "25 0.0020244053277699136\n",
      "26 0.0021152207617316163\n",
      "27 0.0020279481755180622\n",
      "28 0.0019398364369838281\n",
      "29 0.002029661351811835\n"
     ]
    }
   ],
   "source": [
    "def getHyperParameter(X):\n",
    "    n = X.shape[0] # 500\n",
    "    hyperparameter = 0\n",
    "    for i in range(n):\n",
    "        for j in range(n):\n",
    "            hyperparameter += np.linalg.norm(X[i]-X[j])**2\n",
    "    hyperparameter /= n**2\n",
    "    return hyperparameter\n",
    "\n",
    "def rbfKernel(X):\n",
    "    n = X.shape[0] \n",
    "    hyperparameter = getHyperParameter(X)\n",
    "    K=np.zeros((n,n))\n",
    "    for i in range(n):\n",
    "        for j in range(n):\n",
    "            K[i,j] = np.exp(-np.linalg.norm(X[i]-X[j])**2) / hyperparameter\n",
    "    return K\n",
    "\n",
    "def calculateDistances(Kernel, cluster_indexes, k = 10):\n",
    "    res = []\n",
    "    for cluster_num in range(k):\n",
    "        kernel_indexes = np.flatnonzero((cluster_num == cluster_indexes))\n",
    "        K = Kernel[kernel_indexes][:,kernel_indexes]\n",
    "        # print(K.shape)\n",
    "        n = K.shape[0]\n",
    "        distances = np.zeros((n,10))\n",
    "        k = 10\n",
    "        if n < 10:\n",
    "            k = n\n",
    "            distances.fill(sys.maxsize)\n",
    "        for j in range(k):\n",
    "            for i in range(n):\n",
    "                distances[i, j] = K[i, j] - 2 * sum(K[:,j]) / n + np.sum(K) / (n**2)\n",
    "        res.append(distances)\n",
    "\n",
    "    return np.array(res)\n",
    "\n",
    "def compute_loss(distances):\n",
    "    losses = 0\n",
    "    for row in distances:\n",
    "        for i in row:\n",
    "            if i == sys.maxsize: continue\n",
    "            losses += i**2\n",
    "    return losses\n",
    "\n",
    "def kernelKmean(X, iteration_limit = 30, threshold = 1e-4, k = 10):\n",
    "    K = rbfKernel(X)\n",
    "    n = K.shape[0]\n",
    "    losses = []\n",
    "    cluster_indexes = np.array([random.randint(0, k - 1) for _ in range(n)])\n",
    "    prev_loss = 0\n",
    "    # precomputing kernel\n",
    "    K = rbfKernel(X) \n",
    "    print(\"running k means\")\n",
    "    for it in range(iteration_limit):\n",
    "        loss_sum = 0\n",
    "        distances = calculateDistances(K, cluster_indexes)\n",
    "        distances = np.vstack(np.array(distances))\n",
    "    \n",
    "        loss_sum = compute_loss(distances)\n",
    "        losses.append(loss_sum)\n",
    "\n",
    "        cluster_indexes = np.array([np.argmin(i) for i in distances])\n",
    "        print(it, loss_sum)\n",
    "        if prev_loss == loss_sum:\n",
    "            print(f\"convergence achieved after {it} iterations\")\n",
    "            break\n",
    "        prev_loss = loss_sum\n",
    "       \n",
    "    return cluster_indexes, losses\n",
    "\n",
    "kernel_data = data[:500]\n",
    "clusters, losses = kernelKmean(kernel_data)"
   ]
  },
  {
   "cell_type": "code",
   "execution_count": 21,
   "metadata": {},
   "outputs": [
    {
     "name": "stdout",
     "output_type": "stream",
     "text": [
      "[1 0 0 0 0 0 0 0 0 0 0 0 0 0 0 0 0 0 0 0 0 0 0 0 0 0 0 0 0 0 0 0 0 0 0 0 0\n",
      " 0 0 0 0 1 0 0 8 8 8 8 8 8 8 8 4 8 8 8 8 8 8 8 8 8 8 8 8 8 8 8 8 8 8 8 8 8\n",
      " 8 8 8 8 8 8 8 8 8 8 8 8 8 8 8 8 8 8 8 8 8 8 4 8 8 8 8 8 8 8 8 8 8 8 8 8 8\n",
      " 8 8 8 8 8 8 8 8 8 8 8 8 8 8 8 8 8 8 8 8 8 8 8 8 8 8 8 8 8 8 8 8 8 8 8 8 8\n",
      " 8 8 8 8 8 8 8 8 8 8 8 8 8 8 8 8 8 8 8 8 8 8 8 8 8 8 8 8 8 8 8 8 8 8 8 8 8\n",
      " 8 8 8 8 8 8 8 8 8 8 8 8 8 8 8 8 8 8 8 8 8 8 8 8 8 8 8 8 8 8 8 8 8 8 8 8 8\n",
      " 8 8 8 8 8 8 8 8 8 8 8 8 8 8 8 8 8 8 8 8 8 8 8 8 8 8 8 8 8 8 8 8 8 8 8 8 8\n",
      " 8 8 8 8 8 8 8 8 8 8 8 8 8 8 8 8 8 8 8 8 8 8 8 8 8 8 8 8 8 8 8 8 8 8 8 8 8\n",
      " 8 8 8 8 8 8 8 8 8 8 8 8 8 8 8 8 8 8 8 8 8 8 8 8 8 8 8 8 8 8 8 8 8 8 8 8 8\n",
      " 8 8 8 8 8 8 8 8 8 8 8 8 8 4 8 8 8 8 8 8 8 8 8 8 8 8 8 8 8 8 8 8 8 8 8 8 8\n",
      " 8 8 8 8 8 8 8 8 8 8 8 8 8 8 8 8 8 8 8 8 8 8 8 8 8 8 8 8 8 8 8 8 8 8 8 8 8\n",
      " 8 8 8 8 8 8 8 8 8 8 8 8 8 8 8 8 8 8 8 8 8 8 8 8 8 8 8 8 8 8 8 8 8 8 8 8 8\n",
      " 8 8 8 8 8 8 8 8 8 8 8 8 8 8 8 8 8 8 8 8 8 8 4 8 8 8 8 8 8 8 8 8 8 8 8 8 8\n",
      " 8 8 8 8 8 8 8 8 8 8 8 8 8 8 8 8 8 1 0] [0.008746832857891754, 0.005108910734723423, 0.0048700161197777455, 0.004257520641580184, 0.0020461770176332474, 0.0022247026128229164, 0.0024032298306997835, 0.0025817258821659353, 0.0029387750814509257, 0.003584168557496292, 0.002992123024626397, 0.0036169358825400236, 0.0034461044086599494, 0.004005261018169181, 0.003186944316188509, 0.0040795527509890584, 0.0033697767090074744, 0.0038164970597440264, 0.002581559282518524, 0.0027855444617484785, 0.0033104632810908425, 0.0030699943777356582, 0.002899552780006792, 0.0022835983588205874, 0.002110986164444165, 0.0020244053277699136, 0.0021152207617316163, 0.0020279481755180622, 0.0019398364369838281, 0.002029661351811835]\n",
      "k-means clustering loss iteration relationship\n"
     ]
    },
    {
     "data": {
      "image/png": "[encoded data removed]",
      "text/plain": [
       "<Figure size 640x480 with 1 Axes>"
      ]
     },
     "metadata": {},
     "output_type": "display_data"
    }
   ],
   "source": [
    "print(clusters, losses)\n",
    "print(\"k-means clustering loss iteration relationship\")\n",
    "x, y = range(1, len(losses) + 1), losses\n",
    "plt.scatter(x, y, c =\"blue\", s = 40)\n",
    "plt.xlabel(\"Number of iterations\")\n",
    "plt.ylabel(\"Loss\")\n",
    "plt.show()"
   ]
  }
 ],
 "metadata": {
  "kernelspec": {
   "display_name": "Python 3.10.4 ('ML')",
   "language": "python",
   "name": "python3"
  },
  "language_info": {
   "codemirror_mode": {
    "name": "ipython",
    "version": 3
   },
   "file_extension": ".py",
   "mimetype": "text/x-python",
   "name": "python",
   "nbconvert_exporter": "python",
   "pygments_lexer": "ipython3",
   "version": "3.10.4"
  },
  "orig_nbformat": 4,
  "vscode": {
   "interpreter": {
    "hash": "336e0efb211540640d1eaf23f50c113d8410489ab7551eddc2cad419cd785df7"
   }
  }
 },
 "nbformat": 4,
 "nbformat_minor": 2
}
